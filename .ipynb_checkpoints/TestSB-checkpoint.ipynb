{
 "cells": [
  {
   "cell_type": "code",
   "execution_count": 1,
   "id": "f84c395b",
   "metadata": {},
   "outputs": [
    {
     "name": "stdout",
     "output_type": "stream",
     "text": [
      "kloi\n"
     ]
    }
   ],
   "source": [
    "print('kloi')"
   ]
  },
  {
   "cell_type": "code",
   "execution_count": null,
   "id": "dfe3e711",
   "metadata": {},
   "outputs": [],
   "source": [
    "# git status\n",
    "# TestSB.ipynb\n",
    "# git add <file_name>\n",
    "# git commit -m 'first commit'\n",
    "#git push origin main\n",
    "# git checkout <branchname>  (to create a new branch)\n",
    "# git branch (to confirm the new branch you are on)\n",
    "# git push origin <branch_name>\n",
    "# Done - last line"
   ]
  }
 ],
 "metadata": {
  "kernelspec": {
   "display_name": "Python 3 (ipykernel)",
   "language": "python",
   "name": "python3"
  },
  "language_info": {
   "codemirror_mode": {
    "name": "ipython",
    "version": 3
   },
   "file_extension": ".py",
   "mimetype": "text/x-python",
   "name": "python",
   "nbconvert_exporter": "python",
   "pygments_lexer": "ipython3",
   "version": "3.8.17"
  }
 },
 "nbformat": 4,
 "nbformat_minor": 5
}
