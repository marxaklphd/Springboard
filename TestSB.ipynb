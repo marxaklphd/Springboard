{
 "cells": [
  {
   "cell_type": "code",
   "execution_count": 1,
   "id": "2c06d7d5",
   "metadata": {},
   "outputs": [
    {
     "name": "stdout",
     "output_type": "stream",
     "text": [
      "kloi\n"
     ]
    }
   ],
   "source": [
    "print('kloi')"
   ]
  },
  {
   "cell_type": "code",
   "execution_count": null,
   "id": "6ab97a05",
   "metadata": {},
   "outputs": [],
   "source": [
    "# git status\n",
    "# TestSB.ipynb\n",
    "# git commit -m 'first commit'"
   ]
  }
 ],
 "metadata": {
  "kernelspec": {
   "display_name": "Python 3 (ipykernel)",
   "language": "python",
   "name": "python3"
  },
  "language_info": {
   "codemirror_mode": {
    "name": "ipython",
    "version": 3
   },
   "file_extension": ".py",
   "mimetype": "text/x-python",
   "name": "python",
   "nbconvert_exporter": "python",
   "pygments_lexer": "ipython3",
   "version": "3.8.17"
  }
 },
 "nbformat": 4,
 "nbformat_minor": 5
}
